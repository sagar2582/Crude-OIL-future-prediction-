{
  "nbformat": 4,
  "nbformat_minor": 0,
  "metadata": {
    "colab": {
      "name": "Crude OIL prediction using Stacked LSTM.ipynb",
      "provenance": [],
      "collapsed_sections": [],
      "authorship_tag": "ABX9TyPtQfFmNAczrtof6n1Dy1tj",
      "include_colab_link": true
    },
    "kernelspec": {
      "name": "python3",
      "display_name": "Python 3"
    },
    "language_info": {
      "name": "python"
    },
    "accelerator": "GPU",
    "gpuClass": "standard"
  },
  "cells": [
    {
      "cell_type": "markdown",
      "metadata": {
        "id": "view-in-github",
        "colab_type": "text"
      },
      "source": [
        "<a href=\"https://colab.research.google.com/github/sagar2582/Crude-OIL-future-prediction-/blob/main/Crude_OIL_prediction_using_Stacked_LSTM.ipynb\" target=\"_parent\"><img src=\"https://colab.research.google.com/assets/colab-badge.svg\" alt=\"Open In Colab\"/></a>"
      ]
    },
    {
      "cell_type": "code",
      "execution_count": null,
      "metadata": {
        "id": "ozpE_fSJBGDa"
      },
      "outputs": [],
      "source": [
        "## Data Collection\n",
        "import pandas_datareader as pdr"
      ]
    },
    {
      "cell_type": "code",
      "source": [
        "# Creating a request in json format\n",
        "\n",
        "import requests\n",
        "\n",
        "headers = {\n",
        "        'Content-Type': 'application/json'\n",
        "        }\n",
        "requestResponse = requests.get(\"https://api.tiingo.com/api/test?token=037a2939c8cb9f249170032a4a185db726955008\",\n",
        "                                    headers=headers)\n",
        "print(requestResponse.json())\n",
        "key = \"037a2939c8cb9f249170032a4a185db726955008\""
      ],
      "metadata": {
        "colab": {
          "base_uri": "https://localhost:8080/"
        },
        "id": "8E0G4yo2BNwC",
        "outputId": "f0de6c63-205a-450e-8501-f78e7b9bf89b"
      },
      "execution_count": null,
      "outputs": [
        {
          "output_type": "stream",
          "name": "stdout",
          "text": [
            "{'message': 'You successfully sent a request'}\n"
          ]
        }
      ]
    },
    {
      "cell_type": "code",
      "source": [
        "df = pdr.get_data_tiingo('OIL', api_key=key)"
      ],
      "metadata": {
        "colab": {
          "base_uri": "https://localhost:8080/"
        },
        "id": "ICPfdXShHL-m",
        "outputId": "b443ab29-289a-4cbe-d21e-8907a301bd2e"
      },
      "execution_count": null,
      "outputs": [
        {
          "output_type": "stream",
          "name": "stderr",
          "text": [
            "/usr/local/lib/python3.7/dist-packages/pandas_datareader/tiingo.py:234: FutureWarning: In a future version of pandas all arguments of concat except for the argument 'objs' will be keyword-only\n",
            "  return pd.concat(dfs, self._concat_axis)\n"
          ]
        }
      ]
    },
    {
      "cell_type": "code",
      "source": [
        "# Converting json to csv format\n",
        "\n",
        "df.to_csv('OIL.csv')"
      ],
      "metadata": {
        "id": "aqpHpaqtHvQu"
      },
      "execution_count": null,
      "outputs": []
    },
    {
      "cell_type": "code",
      "source": [
        "import pandas as pd"
      ],
      "metadata": {
        "id": "AyZfDb5Mcmza"
      },
      "execution_count": null,
      "outputs": []
    },
    {
      "cell_type": "code",
      "source": [
        "df=pd.read_csv('OIL.csv')"
      ],
      "metadata": {
        "id": "6yBsTvhfcqna"
      },
      "execution_count": null,
      "outputs": []
    },
    {
      "cell_type": "code",
      "source": [
        "df.head()"
      ],
      "metadata": {
        "colab": {
          "base_uri": "https://localhost:8080/",
          "height": 206
        },
        "id": "-Gjv0wXlcsQp",
        "outputId": "60b6e194-8302-4294-ec3c-f06854d5ef4f"
      },
      "execution_count": null,
      "outputs": [
        {
          "output_type": "execute_result",
          "data": {
            "text/plain": [
              "  symbol                       date    close     high      low     open  \\\n",
              "0    OIL  2017-06-15 00:00:00+00:00  13.4701  13.6000  13.4701  13.6000   \n",
              "1    OIL  2017-06-16 00:00:00+00:00  13.6045  13.6045  13.6045  13.6045   \n",
              "2    OIL  2017-06-19 00:00:00+00:00  13.6045  13.6045  13.6045  13.6045   \n",
              "3    OIL  2017-06-20 00:00:00+00:00  13.1500  13.1500  13.1500  13.1500   \n",
              "4    OIL  2017-06-21 00:00:00+00:00  12.8550  12.8550  12.8550  12.8550   \n",
              "\n",
              "   volume  adjClose  adjHigh   adjLow  adjOpen  adjVolume  divCash  \\\n",
              "0    1443   13.4701  13.6000  13.4701  13.6000       1443      0.0   \n",
              "1     121   13.6045  13.6045  13.6045  13.6045        121      0.0   \n",
              "2      38   13.6045  13.6045  13.6045  13.6045         38      0.0   \n",
              "3     534   13.1500  13.1500  13.1500  13.1500        534      0.0   \n",
              "4     511   12.8550  12.8550  12.8550  12.8550        511      0.0   \n",
              "\n",
              "   splitFactor  \n",
              "0          1.0  \n",
              "1          1.0  \n",
              "2          1.0  \n",
              "3          1.0  \n",
              "4          1.0  "
            ],
            "text/html": [
              "\n",
              "  <div id=\"df-38b4b3ba-ce3e-49c9-ac51-6314e75960ce\">\n",
              "    <div class=\"colab-df-container\">\n",
              "      <div>\n",
              "<style scoped>\n",
              "    .dataframe tbody tr th:only-of-type {\n",
              "        vertical-align: middle;\n",
              "    }\n",
              "\n",
              "    .dataframe tbody tr th {\n",
              "        vertical-align: top;\n",
              "    }\n",
              "\n",
              "    .dataframe thead th {\n",
              "        text-align: right;\n",
              "    }\n",
              "</style>\n",
              "<table border=\"1\" class=\"dataframe\">\n",
              "  <thead>\n",
              "    <tr style=\"text-align: right;\">\n",
              "      <th></th>\n",
              "      <th>symbol</th>\n",
              "      <th>date</th>\n",
              "      <th>close</th>\n",
              "      <th>high</th>\n",
              "      <th>low</th>\n",
              "      <th>open</th>\n",
              "      <th>volume</th>\n",
              "      <th>adjClose</th>\n",
              "      <th>adjHigh</th>\n",
              "      <th>adjLow</th>\n",
              "      <th>adjOpen</th>\n",
              "      <th>adjVolume</th>\n",
              "      <th>divCash</th>\n",
              "      <th>splitFactor</th>\n",
              "    </tr>\n",
              "  </thead>\n",
              "  <tbody>\n",
              "    <tr>\n",
              "      <th>0</th>\n",
              "      <td>OIL</td>\n",
              "      <td>2017-06-15 00:00:00+00:00</td>\n",
              "      <td>13.4701</td>\n",
              "      <td>13.6000</td>\n",
              "      <td>13.4701</td>\n",
              "      <td>13.6000</td>\n",
              "      <td>1443</td>\n",
              "      <td>13.4701</td>\n",
              "      <td>13.6000</td>\n",
              "      <td>13.4701</td>\n",
              "      <td>13.6000</td>\n",
              "      <td>1443</td>\n",
              "      <td>0.0</td>\n",
              "      <td>1.0</td>\n",
              "    </tr>\n",
              "    <tr>\n",
              "      <th>1</th>\n",
              "      <td>OIL</td>\n",
              "      <td>2017-06-16 00:00:00+00:00</td>\n",
              "      <td>13.6045</td>\n",
              "      <td>13.6045</td>\n",
              "      <td>13.6045</td>\n",
              "      <td>13.6045</td>\n",
              "      <td>121</td>\n",
              "      <td>13.6045</td>\n",
              "      <td>13.6045</td>\n",
              "      <td>13.6045</td>\n",
              "      <td>13.6045</td>\n",
              "      <td>121</td>\n",
              "      <td>0.0</td>\n",
              "      <td>1.0</td>\n",
              "    </tr>\n",
              "    <tr>\n",
              "      <th>2</th>\n",
              "      <td>OIL</td>\n",
              "      <td>2017-06-19 00:00:00+00:00</td>\n",
              "      <td>13.6045</td>\n",
              "      <td>13.6045</td>\n",
              "      <td>13.6045</td>\n",
              "      <td>13.6045</td>\n",
              "      <td>38</td>\n",
              "      <td>13.6045</td>\n",
              "      <td>13.6045</td>\n",
              "      <td>13.6045</td>\n",
              "      <td>13.6045</td>\n",
              "      <td>38</td>\n",
              "      <td>0.0</td>\n",
              "      <td>1.0</td>\n",
              "    </tr>\n",
              "    <tr>\n",
              "      <th>3</th>\n",
              "      <td>OIL</td>\n",
              "      <td>2017-06-20 00:00:00+00:00</td>\n",
              "      <td>13.1500</td>\n",
              "      <td>13.1500</td>\n",
              "      <td>13.1500</td>\n",
              "      <td>13.1500</td>\n",
              "      <td>534</td>\n",
              "      <td>13.1500</td>\n",
              "      <td>13.1500</td>\n",
              "      <td>13.1500</td>\n",
              "      <td>13.1500</td>\n",
              "      <td>534</td>\n",
              "      <td>0.0</td>\n",
              "      <td>1.0</td>\n",
              "    </tr>\n",
              "    <tr>\n",
              "      <th>4</th>\n",
              "      <td>OIL</td>\n",
              "      <td>2017-06-21 00:00:00+00:00</td>\n",
              "      <td>12.8550</td>\n",
              "      <td>12.8550</td>\n",
              "      <td>12.8550</td>\n",
              "      <td>12.8550</td>\n",
              "      <td>511</td>\n",
              "      <td>12.8550</td>\n",
              "      <td>12.8550</td>\n",
              "      <td>12.8550</td>\n",
              "      <td>12.8550</td>\n",
              "      <td>511</td>\n",
              "      <td>0.0</td>\n",
              "      <td>1.0</td>\n",
              "    </tr>\n",
              "  </tbody>\n",
              "</table>\n",
              "</div>\n",
              "      <button class=\"colab-df-convert\" onclick=\"convertToInteractive('df-38b4b3ba-ce3e-49c9-ac51-6314e75960ce')\"\n",
              "              title=\"Convert this dataframe to an interactive table.\"\n",
              "              style=\"display:none;\">\n",
              "        \n",
              "  <svg xmlns=\"http://www.w3.org/2000/svg\" height=\"24px\"viewBox=\"0 0 24 24\"\n",
              "       width=\"24px\">\n",
              "    <path d=\"M0 0h24v24H0V0z\" fill=\"none\"/>\n",
              "    <path d=\"M18.56 5.44l.94 2.06.94-2.06 2.06-.94-2.06-.94-.94-2.06-.94 2.06-2.06.94zm-11 1L8.5 8.5l.94-2.06 2.06-.94-2.06-.94L8.5 2.5l-.94 2.06-2.06.94zm10 10l.94 2.06.94-2.06 2.06-.94-2.06-.94-.94-2.06-.94 2.06-2.06.94z\"/><path d=\"M17.41 7.96l-1.37-1.37c-.4-.4-.92-.59-1.43-.59-.52 0-1.04.2-1.43.59L10.3 9.45l-7.72 7.72c-.78.78-.78 2.05 0 2.83L4 21.41c.39.39.9.59 1.41.59.51 0 1.02-.2 1.41-.59l7.78-7.78 2.81-2.81c.8-.78.8-2.07 0-2.86zM5.41 20L4 18.59l7.72-7.72 1.47 1.35L5.41 20z\"/>\n",
              "  </svg>\n",
              "      </button>\n",
              "      \n",
              "  <style>\n",
              "    .colab-df-container {\n",
              "      display:flex;\n",
              "      flex-wrap:wrap;\n",
              "      gap: 12px;\n",
              "    }\n",
              "\n",
              "    .colab-df-convert {\n",
              "      background-color: #E8F0FE;\n",
              "      border: none;\n",
              "      border-radius: 50%;\n",
              "      cursor: pointer;\n",
              "      display: none;\n",
              "      fill: #1967D2;\n",
              "      height: 32px;\n",
              "      padding: 0 0 0 0;\n",
              "      width: 32px;\n",
              "    }\n",
              "\n",
              "    .colab-df-convert:hover {\n",
              "      background-color: #E2EBFA;\n",
              "      box-shadow: 0px 1px 2px rgba(60, 64, 67, 0.3), 0px 1px 3px 1px rgba(60, 64, 67, 0.15);\n",
              "      fill: #174EA6;\n",
              "    }\n",
              "\n",
              "    [theme=dark] .colab-df-convert {\n",
              "      background-color: #3B4455;\n",
              "      fill: #D2E3FC;\n",
              "    }\n",
              "\n",
              "    [theme=dark] .colab-df-convert:hover {\n",
              "      background-color: #434B5C;\n",
              "      box-shadow: 0px 1px 3px 1px rgba(0, 0, 0, 0.15);\n",
              "      filter: drop-shadow(0px 1px 2px rgba(0, 0, 0, 0.3));\n",
              "      fill: #FFFFFF;\n",
              "    }\n",
              "  </style>\n",
              "\n",
              "      <script>\n",
              "        const buttonEl =\n",
              "          document.querySelector('#df-38b4b3ba-ce3e-49c9-ac51-6314e75960ce button.colab-df-convert');\n",
              "        buttonEl.style.display =\n",
              "          google.colab.kernel.accessAllowed ? 'block' : 'none';\n",
              "\n",
              "        async function convertToInteractive(key) {\n",
              "          const element = document.querySelector('#df-38b4b3ba-ce3e-49c9-ac51-6314e75960ce');\n",
              "          const dataTable =\n",
              "            await google.colab.kernel.invokeFunction('convertToInteractive',\n",
              "                                                     [key], {});\n",
              "          if (!dataTable) return;\n",
              "\n",
              "          const docLinkHtml = 'Like what you see? Visit the ' +\n",
              "            '<a target=\"_blank\" href=https://colab.research.google.com/notebooks/data_table.ipynb>data table notebook</a>'\n",
              "            + ' to learn more about interactive tables.';\n",
              "          element.innerHTML = '';\n",
              "          dataTable['output_type'] = 'display_data';\n",
              "          await google.colab.output.renderOutput(dataTable, element);\n",
              "          const docLink = document.createElement('div');\n",
              "          docLink.innerHTML = docLinkHtml;\n",
              "          element.appendChild(docLink);\n",
              "        }\n",
              "      </script>\n",
              "    </div>\n",
              "  </div>\n",
              "  "
            ]
          },
          "metadata": {},
          "execution_count": 7
        }
      ]
    },
    {
      "cell_type": "code",
      "source": [
        "df.tail()"
      ],
      "metadata": {
        "colab": {
          "base_uri": "https://localhost:8080/",
          "height": 206
        },
        "id": "Droo2L_Bct7Z",
        "outputId": "65e8737c-cfe2-49ee-d3b2-7c18bd98ee9e"
      },
      "execution_count": null,
      "outputs": [
        {
          "output_type": "execute_result",
          "data": {
            "text/plain": [
              "     symbol                       date  close     high      low   open  \\\n",
              "1253    OIL  2022-06-07 00:00:00+00:00  38.62  38.8000  37.9811  38.18   \n",
              "1254    OIL  2022-06-08 00:00:00+00:00  39.61  39.7400  38.6300  38.75   \n",
              "1255    OIL  2022-06-09 00:00:00+00:00  39.26  39.6099  39.0210  39.60   \n",
              "1256    OIL  2022-06-10 00:00:00+00:00  38.70  39.1300  38.0500  38.78   \n",
              "1257    OIL  2022-06-13 00:00:00+00:00  38.83  39.1800  37.5271  39.14   \n",
              "\n",
              "      volume  adjClose  adjHigh   adjLow  adjOpen  adjVolume  divCash  \\\n",
              "1253   89528     38.62  38.8000  37.9811    38.18      89528      0.0   \n",
              "1254   88884     39.61  39.7400  38.6300    38.75      88884      0.0   \n",
              "1255   55159     39.26  39.6099  39.0210    39.60      55159      0.0   \n",
              "1256   56034     38.70  39.1300  38.0500    38.78      56034      0.0   \n",
              "1257  147049     38.83  39.1800  37.5271    39.14     147049      0.0   \n",
              "\n",
              "      splitFactor  \n",
              "1253          1.0  \n",
              "1254          1.0  \n",
              "1255          1.0  \n",
              "1256          1.0  \n",
              "1257          1.0  "
            ],
            "text/html": [
              "\n",
              "  <div id=\"df-fc5d9b7e-1750-4538-ac2a-9f679c44770d\">\n",
              "    <div class=\"colab-df-container\">\n",
              "      <div>\n",
              "<style scoped>\n",
              "    .dataframe tbody tr th:only-of-type {\n",
              "        vertical-align: middle;\n",
              "    }\n",
              "\n",
              "    .dataframe tbody tr th {\n",
              "        vertical-align: top;\n",
              "    }\n",
              "\n",
              "    .dataframe thead th {\n",
              "        text-align: right;\n",
              "    }\n",
              "</style>\n",
              "<table border=\"1\" class=\"dataframe\">\n",
              "  <thead>\n",
              "    <tr style=\"text-align: right;\">\n",
              "      <th></th>\n",
              "      <th>symbol</th>\n",
              "      <th>date</th>\n",
              "      <th>close</th>\n",
              "      <th>high</th>\n",
              "      <th>low</th>\n",
              "      <th>open</th>\n",
              "      <th>volume</th>\n",
              "      <th>adjClose</th>\n",
              "      <th>adjHigh</th>\n",
              "      <th>adjLow</th>\n",
              "      <th>adjOpen</th>\n",
              "      <th>adjVolume</th>\n",
              "      <th>divCash</th>\n",
              "      <th>splitFactor</th>\n",
              "    </tr>\n",
              "  </thead>\n",
              "  <tbody>\n",
              "    <tr>\n",
              "      <th>1253</th>\n",
              "      <td>OIL</td>\n",
              "      <td>2022-06-07 00:00:00+00:00</td>\n",
              "      <td>38.62</td>\n",
              "      <td>38.8000</td>\n",
              "      <td>37.9811</td>\n",
              "      <td>38.18</td>\n",
              "      <td>89528</td>\n",
              "      <td>38.62</td>\n",
              "      <td>38.8000</td>\n",
              "      <td>37.9811</td>\n",
              "      <td>38.18</td>\n",
              "      <td>89528</td>\n",
              "      <td>0.0</td>\n",
              "      <td>1.0</td>\n",
              "    </tr>\n",
              "    <tr>\n",
              "      <th>1254</th>\n",
              "      <td>OIL</td>\n",
              "      <td>2022-06-08 00:00:00+00:00</td>\n",
              "      <td>39.61</td>\n",
              "      <td>39.7400</td>\n",
              "      <td>38.6300</td>\n",
              "      <td>38.75</td>\n",
              "      <td>88884</td>\n",
              "      <td>39.61</td>\n",
              "      <td>39.7400</td>\n",
              "      <td>38.6300</td>\n",
              "      <td>38.75</td>\n",
              "      <td>88884</td>\n",
              "      <td>0.0</td>\n",
              "      <td>1.0</td>\n",
              "    </tr>\n",
              "    <tr>\n",
              "      <th>1255</th>\n",
              "      <td>OIL</td>\n",
              "      <td>2022-06-09 00:00:00+00:00</td>\n",
              "      <td>39.26</td>\n",
              "      <td>39.6099</td>\n",
              "      <td>39.0210</td>\n",
              "      <td>39.60</td>\n",
              "      <td>55159</td>\n",
              "      <td>39.26</td>\n",
              "      <td>39.6099</td>\n",
              "      <td>39.0210</td>\n",
              "      <td>39.60</td>\n",
              "      <td>55159</td>\n",
              "      <td>0.0</td>\n",
              "      <td>1.0</td>\n",
              "    </tr>\n",
              "    <tr>\n",
              "      <th>1256</th>\n",
              "      <td>OIL</td>\n",
              "      <td>2022-06-10 00:00:00+00:00</td>\n",
              "      <td>38.70</td>\n",
              "      <td>39.1300</td>\n",
              "      <td>38.0500</td>\n",
              "      <td>38.78</td>\n",
              "      <td>56034</td>\n",
              "      <td>38.70</td>\n",
              "      <td>39.1300</td>\n",
              "      <td>38.0500</td>\n",
              "      <td>38.78</td>\n",
              "      <td>56034</td>\n",
              "      <td>0.0</td>\n",
              "      <td>1.0</td>\n",
              "    </tr>\n",
              "    <tr>\n",
              "      <th>1257</th>\n",
              "      <td>OIL</td>\n",
              "      <td>2022-06-13 00:00:00+00:00</td>\n",
              "      <td>38.83</td>\n",
              "      <td>39.1800</td>\n",
              "      <td>37.5271</td>\n",
              "      <td>39.14</td>\n",
              "      <td>147049</td>\n",
              "      <td>38.83</td>\n",
              "      <td>39.1800</td>\n",
              "      <td>37.5271</td>\n",
              "      <td>39.14</td>\n",
              "      <td>147049</td>\n",
              "      <td>0.0</td>\n",
              "      <td>1.0</td>\n",
              "    </tr>\n",
              "  </tbody>\n",
              "</table>\n",
              "</div>\n",
              "      <button class=\"colab-df-convert\" onclick=\"convertToInteractive('df-fc5d9b7e-1750-4538-ac2a-9f679c44770d')\"\n",
              "              title=\"Convert this dataframe to an interactive table.\"\n",
              "              style=\"display:none;\">\n",
              "        \n",
              "  <svg xmlns=\"http://www.w3.org/2000/svg\" height=\"24px\"viewBox=\"0 0 24 24\"\n",
              "       width=\"24px\">\n",
              "    <path d=\"M0 0h24v24H0V0z\" fill=\"none\"/>\n",
              "    <path d=\"M18.56 5.44l.94 2.06.94-2.06 2.06-.94-2.06-.94-.94-2.06-.94 2.06-2.06.94zm-11 1L8.5 8.5l.94-2.06 2.06-.94-2.06-.94L8.5 2.5l-.94 2.06-2.06.94zm10 10l.94 2.06.94-2.06 2.06-.94-2.06-.94-.94-2.06-.94 2.06-2.06.94z\"/><path d=\"M17.41 7.96l-1.37-1.37c-.4-.4-.92-.59-1.43-.59-.52 0-1.04.2-1.43.59L10.3 9.45l-7.72 7.72c-.78.78-.78 2.05 0 2.83L4 21.41c.39.39.9.59 1.41.59.51 0 1.02-.2 1.41-.59l7.78-7.78 2.81-2.81c.8-.78.8-2.07 0-2.86zM5.41 20L4 18.59l7.72-7.72 1.47 1.35L5.41 20z\"/>\n",
              "  </svg>\n",
              "      </button>\n",
              "      \n",
              "  <style>\n",
              "    .colab-df-container {\n",
              "      display:flex;\n",
              "      flex-wrap:wrap;\n",
              "      gap: 12px;\n",
              "    }\n",
              "\n",
              "    .colab-df-convert {\n",
              "      background-color: #E8F0FE;\n",
              "      border: none;\n",
              "      border-radius: 50%;\n",
              "      cursor: pointer;\n",
              "      display: none;\n",
              "      fill: #1967D2;\n",
              "      height: 32px;\n",
              "      padding: 0 0 0 0;\n",
              "      width: 32px;\n",
              "    }\n",
              "\n",
              "    .colab-df-convert:hover {\n",
              "      background-color: #E2EBFA;\n",
              "      box-shadow: 0px 1px 2px rgba(60, 64, 67, 0.3), 0px 1px 3px 1px rgba(60, 64, 67, 0.15);\n",
              "      fill: #174EA6;\n",
              "    }\n",
              "\n",
              "    [theme=dark] .colab-df-convert {\n",
              "      background-color: #3B4455;\n",
              "      fill: #D2E3FC;\n",
              "    }\n",
              "\n",
              "    [theme=dark] .colab-df-convert:hover {\n",
              "      background-color: #434B5C;\n",
              "      box-shadow: 0px 1px 3px 1px rgba(0, 0, 0, 0.15);\n",
              "      filter: drop-shadow(0px 1px 2px rgba(0, 0, 0, 0.3));\n",
              "      fill: #FFFFFF;\n",
              "    }\n",
              "  </style>\n",
              "\n",
              "      <script>\n",
              "        const buttonEl =\n",
              "          document.querySelector('#df-fc5d9b7e-1750-4538-ac2a-9f679c44770d button.colab-df-convert');\n",
              "        buttonEl.style.display =\n",
              "          google.colab.kernel.accessAllowed ? 'block' : 'none';\n",
              "\n",
              "        async function convertToInteractive(key) {\n",
              "          const element = document.querySelector('#df-fc5d9b7e-1750-4538-ac2a-9f679c44770d');\n",
              "          const dataTable =\n",
              "            await google.colab.kernel.invokeFunction('convertToInteractive',\n",
              "                                                     [key], {});\n",
              "          if (!dataTable) return;\n",
              "\n",
              "          const docLinkHtml = 'Like what you see? Visit the ' +\n",
              "            '<a target=\"_blank\" href=https://colab.research.google.com/notebooks/data_table.ipynb>data table notebook</a>'\n",
              "            + ' to learn more about interactive tables.';\n",
              "          element.innerHTML = '';\n",
              "          dataTable['output_type'] = 'display_data';\n",
              "          await google.colab.output.renderOutput(dataTable, element);\n",
              "          const docLink = document.createElement('div');\n",
              "          docLink.innerHTML = docLinkHtml;\n",
              "          element.appendChild(docLink);\n",
              "        }\n",
              "      </script>\n",
              "    </div>\n",
              "  </div>\n",
              "  "
            ]
          },
          "metadata": {},
          "execution_count": 8
        }
      ]
    },
    {
      "cell_type": "markdown",
      "source": [
        "## As we can see we have got Data from 2017 - 2022 for the crude OIL commodity\n",
        "### Now we will be using the column \"close\" -> (Closing price of crude OIL on a particular day) for the particular time-series problem."
      ],
      "metadata": {
        "id": "LNmWabxp3-80"
      }
    },
    {
      "cell_type": "code",
      "source": [
        "# storing all the values in the \"close\" column \n",
        "df_close = df.reset_index()['close']"
      ],
      "metadata": {
        "id": "-TmRJIFc33GU"
      },
      "execution_count": null,
      "outputs": []
    },
    {
      "cell_type": "code",
      "source": [
        "df_close.shape"
      ],
      "metadata": {
        "colab": {
          "base_uri": "https://localhost:8080/"
        },
        "id": "mVdJ82LCJ8kQ",
        "outputId": "d1118b60-730a-4053-caca-7e9300461640"
      },
      "execution_count": null,
      "outputs": [
        {
          "output_type": "execute_result",
          "data": {
            "text/plain": [
              "(1258,)"
            ]
          },
          "metadata": {},
          "execution_count": 10
        }
      ]
    },
    {
      "cell_type": "markdown",
      "source": [
        "## We have 1258 records"
      ],
      "metadata": {
        "id": "hHphsZDzM4H5"
      }
    },
    {
      "cell_type": "code",
      "source": [
        "df_close"
      ],
      "metadata": {
        "colab": {
          "base_uri": "https://localhost:8080/"
        },
        "id": "ajIOQl41J-hv",
        "outputId": "348b89ed-431b-4eda-b582-e25f4c456662"
      },
      "execution_count": null,
      "outputs": [
        {
          "output_type": "execute_result",
          "data": {
            "text/plain": [
              "0       13.4701\n",
              "1       13.6045\n",
              "2       13.6045\n",
              "3       13.1500\n",
              "4       12.8550\n",
              "         ...   \n",
              "1253    38.6200\n",
              "1254    39.6100\n",
              "1255    39.2600\n",
              "1256    38.7000\n",
              "1257    38.8300\n",
              "Name: close, Length: 1258, dtype: float64"
            ]
          },
          "metadata": {},
          "execution_count": 11
        }
      ]
    },
    {
      "cell_type": "markdown",
      "source": [
        "## Plotting the end points"
      ],
      "metadata": {
        "id": "HbR8hbEKNC23"
      }
    },
    {
      "cell_type": "code",
      "source": [
        "import matplotlib.pyplot as plt\n",
        "plt.plot(df_close)\n",
        "plt.show()"
      ],
      "metadata": {
        "colab": {
          "base_uri": "https://localhost:8080/",
          "height": 265
        },
        "id": "Vpvjgi3kM-Xw",
        "outputId": "50f760cc-9f34-4a42-ea4f-1e16c936be9d"
      },
      "execution_count": null,
      "outputs": [
        {
          "output_type": "display_data",
          "data": {
            "text/plain": [
              "<Figure size 432x288 with 1 Axes>"
            ],
            "image/png": "[encoded data removed]"
          },
          "metadata": {
            "needs_background": "light"
          }
        }
      ]
    },
    {
      "cell_type": "markdown",
      "source": [
        "### LSTM are sensitive to the scale of the data. So we have to apply MinMax scaler to transform our values in [0,1."
      ],
      "metadata": {
        "id": "tH3cQn-cNR2g"
      }
    },
    {
      "cell_type": "code",
      "source": [
        "import numpy as np"
      ],
      "metadata": {
        "id": "5lfLVQ98NJX_"
      },
      "execution_count": null,
      "outputs": []
    },
    {
      "cell_type": "code",
      "source": [
        "from sklearn.preprocessing import MinMaxScaler\n",
        "scaler=MinMaxScaler(feature_range=(0,1))\n",
        "df_close=scaler.fit_transform(np.array(df_close).reshape(-1,1))"
      ],
      "metadata": {
        "id": "0W1vCPuHTro4"
      },
      "execution_count": null,
      "outputs": []
    },
    {
      "cell_type": "code",
      "source": [
        "df_close  # Transformed into an array - values ranging from 0 - 1"
      ],
      "metadata": {
        "colab": {
          "base_uri": "https://localhost:8080/"
        },
        "id": "oyXg1XXSTwGP",
        "outputId": "fc7ee9c2-bcad-4ad9-a810-4c9af7e78142"
      },
      "execution_count": null,
      "outputs": [
        {
          "output_type": "execute_result",
          "data": {
            "text/plain": [
              "array([[0.18693935],\n",
              "       [0.19111975],\n",
              "       [0.19111975],\n",
              "       ...,\n",
              "       [0.98911353],\n",
              "       [0.97169518],\n",
              "       [0.97573872]])"
            ]
          },
          "metadata": {},
          "execution_count": 15
        }
      ]
    },
    {
      "cell_type": "markdown",
      "source": [
        "## Spiltting the data in train and test sets"
      ],
      "metadata": {
        "id": "CzSX-NN1WT5g"
      }
    },
    {
      "cell_type": "code",
      "source": [
        "training_size=int(len(df_close)*0.70)\n",
        "test_size=len(df_close)-training_size\n",
        "train_data,test_data=df_close[0:training_size,:],df_close[training_size:len(df_close),:1]"
      ],
      "metadata": {
        "id": "R0qozoJRT1GX"
      },
      "execution_count": null,
      "outputs": []
    },
    {
      "cell_type": "code",
      "source": [
        "# length of the data\n",
        "training_size,test_size"
      ],
      "metadata": {
        "colab": {
          "base_uri": "https://localhost:8080/"
        },
        "id": "gMT9nQwWWyV_",
        "outputId": "88779196-78ab-4c6a-e8d1-1d6afd6f0f44"
      },
      "execution_count": null,
      "outputs": [
        {
          "output_type": "execute_result",
          "data": {
            "text/plain": [
              "(880, 378)"
            ]
          },
          "metadata": {},
          "execution_count": 17
        }
      ]
    },
    {
      "cell_type": "markdown",
      "source": [
        "## Data Pre-Processing"
      ],
      "metadata": {
        "id": "TfgW_J4Eetoh"
      }
    },
    {
      "cell_type": "code",
      "source": [
        "#  function for the forcast which updates with the new predicted value\n",
        "\n",
        "import numpy\n",
        "# convert an array of values into a dataset matrix\n",
        "def create_dataset(dataset, time_step=1):\n",
        "\tdataX, dataY = [], []\n",
        "\tfor i in range(len(dataset)-time_step-1):\n",
        "\t\ta = dataset[i:(i+time_step), 0]   ###i=0, 0,1,2,3-----99   100 \n",
        "\t\tdataX.append(a)\n",
        "\t\tdataY.append(dataset[i + time_step, 0])\n",
        "\treturn numpy.array(dataX), numpy.array(dataY)"
      ],
      "metadata": {
        "id": "2hbkLBm0cSQR"
      },
      "execution_count": null,
      "outputs": []
    },
    {
      "cell_type": "code",
      "source": [
        "time_step = 100\n",
        "X_train, y_train = create_dataset(train_data, time_step)\n",
        "X_test, y_test = create_dataset(test_data, time_step)"
      ],
      "metadata": {
        "id": "nFBRbAree-KW"
      },
      "execution_count": null,
      "outputs": []
    },
    {
      "cell_type": "markdown",
      "source": [
        "We will be using the previous 100 features to predict or fit in our LSTM model, as in the function above, the newly predicted output will be appended in the end our data. "
      ],
      "metadata": {
        "id": "xJ_cjRQkj5kg"
      }
    },
    {
      "cell_type": "code",
      "source": [
        "# Now checking the distribution among test and train\n",
        "print(X_train.shape), print(y_train.shape)"
      ],
      "metadata": {
        "colab": {
          "base_uri": "https://localhost:8080/"
        },
        "id": "hP4Zdjfej4xh",
        "outputId": "85a6481f-dfc5-4946-c73b-78c2dd914658"
      },
      "execution_count": null,
      "outputs": [
        {
          "output_type": "stream",
          "name": "stdout",
          "text": [
            "(779, 100)\n",
            "(779,)\n"
          ]
        },
        {
          "output_type": "execute_result",
          "data": {
            "text/plain": [
              "(None, None)"
            ]
          },
          "metadata": {},
          "execution_count": 20
        }
      ]
    },
    {
      "cell_type": "code",
      "source": [
        "print(X_test.shape), print(y_test.shape)"
      ],
      "metadata": {
        "colab": {
          "base_uri": "https://localhost:8080/"
        },
        "id": "b-3uS6jPksUv",
        "outputId": "8c9feed3-bbe4-4551-d1a5-8eef212eed3a"
      },
      "execution_count": null,
      "outputs": [
        {
          "output_type": "stream",
          "name": "stdout",
          "text": [
            "(277, 100)\n",
            "(277,)\n"
          ]
        },
        {
          "output_type": "execute_result",
          "data": {
            "text/plain": [
              "(None, None)"
            ]
          },
          "metadata": {},
          "execution_count": 21
        }
      ]
    },
    {
      "cell_type": "markdown",
      "source": [
        "### Before implementing any LSTM model we need to reshape our inputs to a 3-dimensions"
      ],
      "metadata": {
        "id": "-8M6FoDBlEhP"
      }
    },
    {
      "cell_type": "code",
      "source": [
        "# reshape input to be [samples, time steps, features] which is required for LSTM\n",
        "X_train =X_train.reshape(X_train.shape[0],X_train.shape[1] , 1)\n",
        "X_test = X_test.reshape(X_test.shape[0],X_test.shape[1] , 1)"
      ],
      "metadata": {
        "id": "qYjja9a-kunO"
      },
      "execution_count": null,
      "outputs": []
    },
    {
      "cell_type": "code",
      "source": [
        "### Create the Stacked LSTM model\n",
        "from tensorflow.keras.models import Sequential\n",
        "from tensorflow.keras.layers import Dense\n",
        "from tensorflow.keras.layers import LSTM"
      ],
      "metadata": {
        "id": "2fwa0VPtnhQe"
      },
      "execution_count": null,
      "outputs": []
    },
    {
      "cell_type": "code",
      "source": [
        "model=Sequential()\n",
        "model.add(LSTM(50,return_sequences=True,input_shape=(100,1)))\n",
        "model.add(LSTM(50,return_sequences=True))\n",
        "model.add(LSTM(50))\n",
        "model.add(Dense(1))\n",
        "model.compile(loss='mean_squared_error',optimizer='adam')"
      ],
      "metadata": {
        "id": "33g5XxyJob-n"
      },
      "execution_count": null,
      "outputs": []
    },
    {
      "cell_type": "code",
      "source": [
        "model.summary()"
      ],
      "metadata": {
        "colab": {
          "base_uri": "https://localhost:8080/"
        },
        "id": "2lvy0mU6oin2",
        "outputId": "fe078ed3-4427-4233-bf76-ff528284c24b"
      },
      "execution_count": null,
      "outputs": [
        {
          "output_type": "stream",
          "name": "stdout",
          "text": [
            "Model: \"sequential\"\n",
            "_________________________________________________________________\n",
            " Layer (type)                Output Shape              Param #   \n",
            "=================================================================\n",
            " lstm (LSTM)                 (None, 100, 50)           10400     \n",
            "                                                                 \n",
            " lstm_1 (LSTM)               (None, 100, 50)           20200     \n",
            "                                                                 \n",
            " lstm_2 (LSTM)               (None, 50)                20200     \n",
            "                                                                 \n",
            " dense (Dense)               (None, 1)                 51        \n",
            "                                                                 \n",
            "=================================================================\n",
            "Total params: 50,851\n",
            "Trainable params: 50,851\n",
            "Non-trainable params: 0\n",
            "_________________________________________________________________\n"
          ]
        }
      ]
    },
    {
      "cell_type": "code",
      "source": [
        "# fitting into the model\n",
        "model.fit(X_train,y_train,validation_data=(X_test,y_test),epochs=100,batch_size=64,verbose=1)"
      ],
      "metadata": {
        "colab": {
          "base_uri": "https://localhost:8080/"
        },
        "id": "UsFYn2Weolr-",
        "outputId": "87facc00-1c31-4608-8c7c-ad36c0874cb4"
      },
      "execution_count": null,
      "outputs": [
        {
          "output_type": "stream",
          "name": "stdout",
          "text": [
            "Epoch 1/100\n",
            "13/13 [==============================] - 10s 107ms/step - loss: 0.0236 - val_loss: 0.0538\n",
            "Epoch 2/100\n",
            "13/13 [==============================] - 0s 19ms/step - loss: 0.0048 - val_loss: 0.0135\n",
            "Epoch 3/100\n",
            "13/13 [==============================] - 0s 17ms/step - loss: 0.0027 - val_loss: 0.0098\n",
            "Epoch 4/100\n",
            "13/13 [==============================] - 0s 18ms/step - loss: 0.0019 - val_loss: 0.0106\n",
            "Epoch 5/100\n",
            "13/13 [==============================] - 0s 17ms/step - loss: 0.0014 - val_loss: 0.0052\n",
            "Epoch 6/100\n",
            "13/13 [==============================] - 0s 18ms/step - loss: 0.0012 - val_loss: 0.0034\n",
            "Epoch 7/100\n",
            "13/13 [==============================] - 0s 19ms/step - loss: 0.0011 - val_loss: 0.0033\n",
            "Epoch 8/100\n",
            "13/13 [==============================] - 0s 18ms/step - loss: 0.0011 - val_loss: 0.0036\n",
            "Epoch 9/100\n",
            "13/13 [==============================] - 0s 17ms/step - loss: 0.0011 - val_loss: 0.0047\n",
            "Epoch 10/100\n",
            "13/13 [==============================] - 0s 17ms/step - loss: 0.0011 - val_loss: 0.0024\n",
            "Epoch 11/100\n",
            "13/13 [==============================] - 0s 18ms/step - loss: 0.0010 - val_loss: 0.0023\n",
            "Epoch 12/100\n",
            "13/13 [==============================] - 0s 18ms/step - loss: 9.4751e-04 - val_loss: 0.0027\n",
            "Epoch 13/100\n",
            "13/13 [==============================] - 0s 18ms/step - loss: 8.8788e-04 - val_loss: 0.0019\n",
            "Epoch 14/100\n",
            "13/13 [==============================] - 0s 19ms/step - loss: 8.3306e-04 - val_loss: 0.0031\n",
            "Epoch 15/100\n",
            "13/13 [==============================] - 0s 20ms/step - loss: 7.8170e-04 - val_loss: 0.0026\n",
            "Epoch 16/100\n",
            "13/13 [==============================] - 0s 20ms/step - loss: 7.4485e-04 - val_loss: 0.0053\n",
            "Epoch 17/100\n",
            "13/13 [==============================] - 0s 20ms/step - loss: 7.7738e-04 - val_loss: 0.0032\n",
            "Epoch 18/100\n",
            "13/13 [==============================] - 0s 17ms/step - loss: 7.2475e-04 - val_loss: 0.0032\n",
            "Epoch 19/100\n",
            "13/13 [==============================] - 0s 18ms/step - loss: 7.1451e-04 - val_loss: 0.0023\n",
            "Epoch 20/100\n",
            "13/13 [==============================] - 0s 18ms/step - loss: 7.7267e-04 - val_loss: 0.0028\n",
            "Epoch 21/100\n",
            "13/13 [==============================] - 0s 17ms/step - loss: 6.8608e-04 - val_loss: 0.0024\n",
            "Epoch 22/100\n",
            "13/13 [==============================] - 0s 18ms/step - loss: 6.5295e-04 - val_loss: 0.0041\n",
            "Epoch 23/100\n",
            "13/13 [==============================] - 0s 18ms/step - loss: 6.5574e-04 - val_loss: 0.0020\n",
            "Epoch 24/100\n",
            "13/13 [==============================] - 0s 18ms/step - loss: 6.4030e-04 - val_loss: 0.0032\n",
            "Epoch 25/100\n",
            "13/13 [==============================] - 0s 17ms/step - loss: 7.0207e-04 - val_loss: 0.0023\n",
            "Epoch 26/100\n",
            "13/13 [==============================] - 0s 18ms/step - loss: 6.4765e-04 - val_loss: 0.0016\n",
            "Epoch 27/100\n",
            "13/13 [==============================] - 0s 17ms/step - loss: 5.9533e-04 - val_loss: 0.0022\n",
            "Epoch 28/100\n",
            "13/13 [==============================] - 0s 18ms/step - loss: 5.7531e-04 - val_loss: 0.0023\n",
            "Epoch 29/100\n",
            "13/13 [==============================] - 0s 18ms/step - loss: 5.6747e-04 - val_loss: 0.0025\n",
            "Epoch 30/100\n",
            "13/13 [==============================] - 0s 17ms/step - loss: 5.9348e-04 - val_loss: 0.0015\n",
            "Epoch 31/100\n",
            "13/13 [==============================] - 0s 18ms/step - loss: 5.9400e-04 - val_loss: 0.0015\n",
            "Epoch 32/100\n",
            "13/13 [==============================] - 0s 18ms/step - loss: 6.1611e-04 - val_loss: 0.0016\n",
            "Epoch 33/100\n",
            "13/13 [==============================] - 0s 17ms/step - loss: 5.3388e-04 - val_loss: 0.0026\n",
            "Epoch 34/100\n",
            "13/13 [==============================] - 0s 17ms/step - loss: 5.2024e-04 - val_loss: 0.0016\n",
            "Epoch 35/100\n",
            "13/13 [==============================] - 0s 17ms/step - loss: 5.5462e-04 - val_loss: 0.0015\n",
            "Epoch 36/100\n",
            "13/13 [==============================] - 0s 18ms/step - loss: 6.1334e-04 - val_loss: 0.0016\n",
            "Epoch 37/100\n",
            "13/13 [==============================] - 0s 18ms/step - loss: 6.2930e-04 - val_loss: 0.0029\n",
            "Epoch 38/100\n",
            "13/13 [==============================] - 0s 17ms/step - loss: 5.8373e-04 - val_loss: 0.0030\n",
            "Epoch 39/100\n",
            "13/13 [==============================] - 0s 18ms/step - loss: 5.0941e-04 - val_loss: 0.0039\n",
            "Epoch 40/100\n",
            "13/13 [==============================] - 0s 18ms/step - loss: 5.9725e-04 - val_loss: 0.0017\n",
            "Epoch 41/100\n",
            "13/13 [==============================] - 0s 18ms/step - loss: 4.7803e-04 - val_loss: 0.0023\n",
            "Epoch 42/100\n",
            "13/13 [==============================] - 0s 18ms/step - loss: 4.5730e-04 - val_loss: 0.0020\n",
            "Epoch 43/100\n",
            "13/13 [==============================] - 0s 17ms/step - loss: 4.5117e-04 - val_loss: 0.0018\n",
            "Epoch 44/100\n",
            "13/13 [==============================] - 0s 18ms/step - loss: 4.3923e-04 - val_loss: 0.0018\n",
            "Epoch 45/100\n",
            "13/13 [==============================] - 0s 19ms/step - loss: 4.4088e-04 - val_loss: 0.0016\n",
            "Epoch 46/100\n",
            "13/13 [==============================] - 0s 18ms/step - loss: 4.2967e-04 - val_loss: 0.0017\n",
            "Epoch 47/100\n",
            "13/13 [==============================] - 0s 17ms/step - loss: 4.2755e-04 - val_loss: 0.0019\n",
            "Epoch 48/100\n",
            "13/13 [==============================] - 0s 18ms/step - loss: 4.1312e-04 - val_loss: 0.0017\n",
            "Epoch 49/100\n",
            "13/13 [==============================] - 0s 17ms/step - loss: 4.5940e-04 - val_loss: 0.0018\n",
            "Epoch 50/100\n",
            "13/13 [==============================] - 0s 18ms/step - loss: 4.8152e-04 - val_loss: 0.0034\n",
            "Epoch 51/100\n",
            "13/13 [==============================] - 0s 18ms/step - loss: 5.0440e-04 - val_loss: 0.0031\n",
            "Epoch 52/100\n",
            "13/13 [==============================] - 0s 20ms/step - loss: 4.6325e-04 - val_loss: 0.0016\n",
            "Epoch 53/100\n",
            "13/13 [==============================] - 0s 19ms/step - loss: 4.2899e-04 - val_loss: 0.0019\n",
            "Epoch 54/100\n",
            "13/13 [==============================] - 0s 18ms/step - loss: 4.8544e-04 - val_loss: 0.0021\n",
            "Epoch 55/100\n",
            "13/13 [==============================] - 0s 18ms/step - loss: 4.2559e-04 - val_loss: 0.0026\n",
            "Epoch 56/100\n",
            "13/13 [==============================] - 0s 17ms/step - loss: 3.8931e-04 - val_loss: 0.0026\n",
            "Epoch 57/100\n",
            "13/13 [==============================] - 0s 19ms/step - loss: 4.2813e-04 - val_loss: 0.0019\n",
            "Epoch 58/100\n",
            "13/13 [==============================] - 0s 19ms/step - loss: 4.2069e-04 - val_loss: 0.0017\n",
            "Epoch 59/100\n",
            "13/13 [==============================] - 0s 18ms/step - loss: 3.5422e-04 - val_loss: 0.0018\n",
            "Epoch 60/100\n",
            "13/13 [==============================] - 0s 20ms/step - loss: 3.5674e-04 - val_loss: 0.0018\n",
            "Epoch 61/100\n",
            "13/13 [==============================] - 0s 18ms/step - loss: 3.4127e-04 - val_loss: 0.0022\n",
            "Epoch 62/100\n",
            "13/13 [==============================] - 0s 18ms/step - loss: 3.9217e-04 - val_loss: 0.0022\n",
            "Epoch 63/100\n",
            "13/13 [==============================] - 0s 18ms/step - loss: 3.8299e-04 - val_loss: 0.0018\n",
            "Epoch 64/100\n",
            "13/13 [==============================] - 0s 18ms/step - loss: 4.0045e-04 - val_loss: 0.0016\n",
            "Epoch 65/100\n",
            "13/13 [==============================] - 0s 18ms/step - loss: 3.9265e-04 - val_loss: 0.0015\n",
            "Epoch 66/100\n",
            "13/13 [==============================] - 0s 18ms/step - loss: 3.3908e-04 - val_loss: 0.0021\n",
            "Epoch 67/100\n",
            "13/13 [==============================] - 0s 18ms/step - loss: 3.6428e-04 - val_loss: 0.0019\n",
            "Epoch 68/100\n",
            "13/13 [==============================] - 0s 17ms/step - loss: 3.3481e-04 - val_loss: 0.0017\n",
            "Epoch 69/100\n",
            "13/13 [==============================] - 0s 18ms/step - loss: 3.3191e-04 - val_loss: 0.0016\n",
            "Epoch 70/100\n",
            "13/13 [==============================] - 0s 17ms/step - loss: 3.1137e-04 - val_loss: 0.0016\n",
            "Epoch 71/100\n",
            "13/13 [==============================] - 0s 18ms/step - loss: 3.3915e-04 - val_loss: 0.0015\n",
            "Epoch 72/100\n",
            "13/13 [==============================] - 0s 18ms/step - loss: 3.1710e-04 - val_loss: 0.0017\n",
            "Epoch 73/100\n",
            "13/13 [==============================] - 0s 18ms/step - loss: 2.9444e-04 - val_loss: 0.0015\n",
            "Epoch 74/100\n",
            "13/13 [==============================] - 0s 19ms/step - loss: 3.3322e-04 - val_loss: 0.0018\n",
            "Epoch 75/100\n",
            "13/13 [==============================] - 0s 18ms/step - loss: 3.1090e-04 - val_loss: 0.0020\n",
            "Epoch 76/100\n",
            "13/13 [==============================] - 0s 18ms/step - loss: 3.1130e-04 - val_loss: 0.0014\n",
            "Epoch 77/100\n",
            "13/13 [==============================] - 0s 18ms/step - loss: 3.0938e-04 - val_loss: 0.0014\n",
            "Epoch 78/100\n",
            "13/13 [==============================] - 0s 19ms/step - loss: 2.8090e-04 - val_loss: 0.0012\n",
            "Epoch 79/100\n",
            "13/13 [==============================] - 0s 19ms/step - loss: 2.8792e-04 - val_loss: 0.0012\n",
            "Epoch 80/100\n",
            "13/13 [==============================] - 0s 19ms/step - loss: 2.7170e-04 - val_loss: 0.0012\n",
            "Epoch 81/100\n",
            "13/13 [==============================] - 0s 18ms/step - loss: 2.8135e-04 - val_loss: 0.0012\n",
            "Epoch 82/100\n",
            "13/13 [==============================] - 0s 18ms/step - loss: 2.9914e-04 - val_loss: 0.0016\n",
            "Epoch 83/100\n",
            "13/13 [==============================] - 0s 18ms/step - loss: 3.1399e-04 - val_loss: 0.0011\n",
            "Epoch 84/100\n",
            "13/13 [==============================] - 0s 18ms/step - loss: 2.9388e-04 - val_loss: 0.0013\n",
            "Epoch 85/100\n",
            "13/13 [==============================] - 0s 17ms/step - loss: 2.7051e-04 - val_loss: 0.0010\n",
            "Epoch 86/100\n",
            "13/13 [==============================] - 0s 18ms/step - loss: 2.9103e-04 - val_loss: 0.0013\n",
            "Epoch 87/100\n",
            "13/13 [==============================] - 0s 18ms/step - loss: 2.9757e-04 - val_loss: 0.0017\n",
            "Epoch 88/100\n",
            "13/13 [==============================] - 0s 19ms/step - loss: 3.2362e-04 - val_loss: 0.0013\n",
            "Epoch 89/100\n",
            "13/13 [==============================] - 0s 18ms/step - loss: 3.8348e-04 - val_loss: 9.5080e-04\n",
            "Epoch 90/100\n",
            "13/13 [==============================] - 0s 18ms/step - loss: 3.0185e-04 - val_loss: 0.0010\n",
            "Epoch 91/100\n",
            "13/13 [==============================] - 0s 18ms/step - loss: 2.6942e-04 - val_loss: 9.4929e-04\n",
            "Epoch 92/100\n",
            "13/13 [==============================] - 0s 19ms/step - loss: 2.6701e-04 - val_loss: 0.0010\n",
            "Epoch 93/100\n",
            "13/13 [==============================] - 0s 18ms/step - loss: 2.6954e-04 - val_loss: 9.0675e-04\n",
            "Epoch 94/100\n",
            "13/13 [==============================] - 0s 18ms/step - loss: 2.6478e-04 - val_loss: 9.5342e-04\n",
            "Epoch 95/100\n",
            "13/13 [==============================] - 0s 21ms/step - loss: 2.6625e-04 - val_loss: 9.6428e-04\n",
            "Epoch 96/100\n",
            "13/13 [==============================] - 0s 19ms/step - loss: 2.7809e-04 - val_loss: 9.8378e-04\n",
            "Epoch 97/100\n",
            "13/13 [==============================] - 0s 19ms/step - loss: 2.4624e-04 - val_loss: 8.3340e-04\n",
            "Epoch 98/100\n",
            "13/13 [==============================] - 0s 17ms/step - loss: 2.6381e-04 - val_loss: 8.3517e-04\n",
            "Epoch 99/100\n",
            "13/13 [==============================] - 0s 18ms/step - loss: 2.6312e-04 - val_loss: 9.2632e-04\n",
            "Epoch 100/100\n",
            "13/13 [==============================] - 0s 18ms/step - loss: 2.7635e-04 - val_loss: 0.0010\n"
          ]
        },
        {
          "output_type": "execute_result",
          "data": {
            "text/plain": [
              "<keras.callbacks.History at 0x7f7fd01a1950>"
            ]
          },
          "metadata": {},
          "execution_count": 26
        }
      ]
    },
    {
      "cell_type": "code",
      "source": [
        "import tensorflow as tf"
      ],
      "metadata": {
        "id": "GA04QRzjo1gn"
      },
      "execution_count": null,
      "outputs": []
    },
    {
      "cell_type": "code",
      "source": [
        "# Now the prediction and checking performance metrics\n",
        "\n",
        "train_predict=model.predict(X_train)\n",
        "test_predict=model.predict(X_test)"
      ],
      "metadata": {
        "id": "eU0UfY0rpS3P"
      },
      "execution_count": null,
      "outputs": []
    },
    {
      "cell_type": "code",
      "source": [
        "# Transformback to original form (reverse scaling) - to find the RMSE performance metrics, it is neccessary \n",
        "\n",
        "train_predict=scaler.inverse_transform(train_predict)\n",
        "test_predict=scaler.inverse_transform(test_predict)"
      ],
      "metadata": {
        "id": "CnDP4gFQpaE3"
      },
      "execution_count": null,
      "outputs": []
    },
    {
      "cell_type": "code",
      "source": [
        "# Calculating RMSE performance metrics\n",
        "\n",
        "import math\n",
        "from sklearn.metrics import mean_squared_error\n",
        "math.sqrt(mean_squared_error(y_train,train_predict))"
      ],
      "metadata": {
        "colab": {
          "base_uri": "https://localhost:8080/"
        },
        "id": "wyMZxjl7pk12",
        "outputId": "a358816a-9f13-4bfa-cf75-11c6224a93d3"
      },
      "execution_count": null,
      "outputs": [
        {
          "output_type": "execute_result",
          "data": {
            "text/plain": [
              "549.6294943068544"
            ]
          },
          "metadata": {},
          "execution_count": 32
        }
      ]
    },
    {
      "cell_type": "code",
      "source": [
        "# Test Data RMSE score\n",
        "\n",
        "math.sqrt(mean_squared_error(y_test,test_predict))"
      ],
      "metadata": {
        "colab": {
          "base_uri": "https://localhost:8080/"
        },
        "id": "j_4hdqUhp333",
        "outputId": "ca038cf1-2842-4422-d06a-4f6749777d80"
      },
      "execution_count": null,
      "outputs": [
        {
          "output_type": "execute_result",
          "data": {
            "text/plain": [
              "836.6746412357068"
            ]
          },
          "metadata": {},
          "execution_count": 34
        }
      ]
    },
    {
      "cell_type": "code",
      "source": [
        "### Plotting \n",
        "\n",
        "# shift train predictions for plotting\n",
        "look_back=100\n",
        "trainPredictPlot = numpy.empty_like(df_close)\n",
        "trainPredictPlot[:, :] = np.nan\n",
        "trainPredictPlot[look_back:len(train_predict)+look_back, :] = train_predict\n",
        "# shift test predictions for plotting\n",
        "testPredictPlot = numpy.empty_like(df_close)\n",
        "testPredictPlot[:, :] = numpy.nan\n",
        "testPredictPlot[len(train_predict)+(look_back*2)+1:len(df_close)-1, :] = test_predict\n",
        "# plot baseline and predictions\n",
        "plt.plot(scaler.inverse_transform(df_close))\n",
        "plt.plot(trainPredictPlot)\n",
        "plt.plot(testPredictPlot)\n",
        "plt.legend(['','train', 'test'])\n",
        "plt.show()"
      ],
      "metadata": {
        "colab": {
          "base_uri": "https://localhost:8080/",
          "height": 265
        },
        "id": "Lya-ijKiqZfI",
        "outputId": "7f33c4ec-ca53-400a-ab15-c5d82bed7346"
      },
      "execution_count": null,
      "outputs": [
        {
          "output_type": "display_data",
          "data": {
            "text/plain": [
              "<Figure size 432x288 with 1 Axes>"
            ],
            "image/png": "[encoded data removed]"
          },
          "metadata": {
            "needs_background": "light"
          }
        }
      ]
    },
    {
      "cell_type": "markdown",
      "source": [
        "## Now Working on the next 20 days forcast"
      ],
      "metadata": {
        "id": "RFKTj9mXsiEw"
      }
    },
    {
      "cell_type": "code",
      "source": [
        "len(test_data)"
      ],
      "metadata": {
        "colab": {
          "base_uri": "https://localhost:8080/"
        },
        "id": "Xfx_-uwYqoDG",
        "outputId": "45181a42-9124-40ff-cd6b-0cacb23ea143"
      },
      "execution_count": null,
      "outputs": [
        {
          "output_type": "execute_result",
          "data": {
            "text/plain": [
              "378"
            ]
          },
          "metadata": {},
          "execution_count": 44
        }
      ]
    },
    {
      "cell_type": "code",
      "source": [
        "# To predict what will be the price of crude OIL on next day, we will look back on the 100 days\n",
        "\n",
        "x_input=test_data[278:].reshape(1,-1)\n",
        "x_input.shape"
      ],
      "metadata": {
        "colab": {
          "base_uri": "https://localhost:8080/"
        },
        "id": "vcKBLSbqsty_",
        "outputId": "eff6b507-df89-4d80-edef-c26a779e6b98"
      },
      "execution_count": null,
      "outputs": [
        {
          "output_type": "execute_result",
          "data": {
            "text/plain": [
              "(1, 100)"
            ]
          },
          "metadata": {},
          "execution_count": 47
        }
      ]
    },
    {
      "cell_type": "code",
      "source": [
        "temp_input=list(x_input)\n",
        "temp_input=temp_input[0].tolist()"
      ],
      "metadata": {
        "id": "OF6n1kPZtCDW"
      },
      "execution_count": null,
      "outputs": []
    },
    {
      "cell_type": "code",
      "source": [
        "# demonstrate prediction for next 20 days\n",
        "from numpy import array\n",
        "\n",
        "lst_output=[]\n",
        "n_steps=100\n",
        "i=0\n",
        "while(i<20):\n",
        "    \n",
        "    if(len(temp_input)>100):\n",
        "        #print(temp_input)\n",
        "        x_input=np.array(temp_input[1:])\n",
        "        print(\"{} day input {}\".format(i,x_input))\n",
        "        x_input=x_input.reshape(1,-1)\n",
        "        x_input = x_input.reshape((1, n_steps, 1))\n",
        "        #print(x_input)\n",
        "        yhat = model.predict(x_input, verbose=0)\n",
        "        print(\"{} day output {}\".format(i,yhat))\n",
        "        temp_input.extend(yhat[0].tolist())\n",
        "        temp_input=temp_input[1:]\n",
        "        #print(temp_input)\n",
        "        lst_output.extend(yhat.tolist())\n",
        "        i=i+1\n",
        "    else:\n",
        "        x_input = x_input.reshape((1, n_steps,1))\n",
        "        yhat = model.predict(x_input, verbose=0)\n",
        "        print(yhat[0])\n",
        "        temp_input.extend(yhat[0].tolist())\n",
        "        print(len(temp_input))\n",
        "        lst_output.extend(yhat.tolist())\n",
        "        i=i+1\n",
        "    \n",
        "\n",
        "print(lst_output)"
      ],
      "metadata": {
        "colab": {
          "base_uri": "https://localhost:8080/"
        },
        "id": "wl9K0Z8dtCj_",
        "outputId": "1834f268-b086-4f51-f183-d1487fc338bf"
      },
      "execution_count": null,
      "outputs": [
        {
          "output_type": "stream",
          "name": "stdout",
          "text": [
            "[0.9523343]\n",
            "101\n",
            "1 day input [0.58227061 0.57636081 0.58662519 0.5940902  0.59751166 0.59906687\n",
            " 0.60435459 0.60404355 0.60559876 0.61866252 0.63981337 0.63452566\n",
            " 0.6192846  0.62488336 0.62426128 0.64821151 0.6562986  0.62457232\n",
            " 0.61399689 0.62830482 0.63732504 0.64634526 0.65536547 0.65692068\n",
            " 0.64634526 0.67247278 0.73810264 0.79564541 0.77698289 0.83794712\n",
            " 0.88678072 0.92690513 0.78662519 0.75863142 0.79751166 0.75023328\n",
            " 0.69300156 0.68802488 0.76267496 0.77356143 0.84323484 0.83313841\n",
            " 0.87931571 0.85194401 0.86469673 0.78227061 0.79875583 0.82301711\n",
            " 0.77076205 0.76765163 0.80248834 0.78040435 0.75241058 0.75645412\n",
            " 0.7645661  0.73530327 0.78880249 0.81586314 0.83017107 0.84012442\n",
            " 0.79533437 0.80155521 0.81337481 0.7881804  0.76609642 0.7881804\n",
            " 0.78693624 0.80514463 0.79595645 0.81026439 0.78942457 0.83856921\n",
            " 0.84199067 0.86687403 0.79024883 0.76049767 0.80808709 0.82301711\n",
            " 0.85412131 0.87682737 0.84817729 0.82363919 0.84105754 0.85723173\n",
            " 0.86127527 0.86127527 0.8681182  0.89766719 0.90824261 0.91104199\n",
            " 0.91135303 0.93592535 0.97076205 0.94992224 0.96920684 1.\n",
            " 0.98911353 0.97169518 0.97573872 0.95233428]\n",
            "1 day output [[0.93778837]]\n",
            "2 day input [0.57636081 0.58662519 0.5940902  0.59751166 0.59906687 0.60435459\n",
            " 0.60404355 0.60559876 0.61866252 0.63981337 0.63452566 0.6192846\n",
            " 0.62488336 0.62426128 0.64821151 0.6562986  0.62457232 0.61399689\n",
            " 0.62830482 0.63732504 0.64634526 0.65536547 0.65692068 0.64634526\n",
            " 0.67247278 0.73810264 0.79564541 0.77698289 0.83794712 0.88678072\n",
            " 0.92690513 0.78662519 0.75863142 0.79751166 0.75023328 0.69300156\n",
            " 0.68802488 0.76267496 0.77356143 0.84323484 0.83313841 0.87931571\n",
            " 0.85194401 0.86469673 0.78227061 0.79875583 0.82301711 0.77076205\n",
            " 0.76765163 0.80248834 0.78040435 0.75241058 0.75645412 0.7645661\n",
            " 0.73530327 0.78880249 0.81586314 0.83017107 0.84012442 0.79533437\n",
            " 0.80155521 0.81337481 0.7881804  0.76609642 0.7881804  0.78693624\n",
            " 0.80514463 0.79595645 0.81026439 0.78942457 0.83856921 0.84199067\n",
            " 0.86687403 0.79024883 0.76049767 0.80808709 0.82301711 0.85412131\n",
            " 0.87682737 0.84817729 0.82363919 0.84105754 0.85723173 0.86127527\n",
            " 0.86127527 0.8681182  0.89766719 0.90824261 0.91104199 0.91135303\n",
            " 0.93592535 0.97076205 0.94992224 0.96920684 1.         0.98911353\n",
            " 0.97169518 0.97573872 0.95233428 0.93778837]\n",
            "2 day output [[0.9210041]]\n",
            "3 day input [0.58662519 0.5940902  0.59751166 0.59906687 0.60435459 0.60404355\n",
            " 0.60559876 0.61866252 0.63981337 0.63452566 0.6192846  0.62488336\n",
            " 0.62426128 0.64821151 0.6562986  0.62457232 0.61399689 0.62830482\n",
            " 0.63732504 0.64634526 0.65536547 0.65692068 0.64634526 0.67247278\n",
            " 0.73810264 0.79564541 0.77698289 0.83794712 0.88678072 0.92690513\n",
            " 0.78662519 0.75863142 0.79751166 0.75023328 0.69300156 0.68802488\n",
            " 0.76267496 0.77356143 0.84323484 0.83313841 0.87931571 0.85194401\n",
            " 0.86469673 0.78227061 0.79875583 0.82301711 0.77076205 0.76765163\n",
            " 0.80248834 0.78040435 0.75241058 0.75645412 0.7645661  0.73530327\n",
            " 0.78880249 0.81586314 0.83017107 0.84012442 0.79533437 0.80155521\n",
            " 0.81337481 0.7881804  0.76609642 0.7881804  0.78693624 0.80514463\n",
            " 0.79595645 0.81026439 0.78942457 0.83856921 0.84199067 0.86687403\n",
            " 0.79024883 0.76049767 0.80808709 0.82301711 0.85412131 0.87682737\n",
            " 0.84817729 0.82363919 0.84105754 0.85723173 0.86127527 0.86127527\n",
            " 0.8681182  0.89766719 0.90824261 0.91104199 0.91135303 0.93592535\n",
            " 0.97076205 0.94992224 0.96920684 1.         0.98911353 0.97169518\n",
            " 0.97573872 0.95233428 0.93778837 0.92100412]\n",
            "3 day output [[0.904559]]\n",
            "4 day input [0.5940902  0.59751166 0.59906687 0.60435459 0.60404355 0.60559876\n",
            " 0.61866252 0.63981337 0.63452566 0.6192846  0.62488336 0.62426128\n",
            " 0.64821151 0.6562986  0.62457232 0.61399689 0.62830482 0.63732504\n",
            " 0.64634526 0.65536547 0.65692068 0.64634526 0.67247278 0.73810264\n",
            " 0.79564541 0.77698289 0.83794712 0.88678072 0.92690513 0.78662519\n",
            " 0.75863142 0.79751166 0.75023328 0.69300156 0.68802488 0.76267496\n",
            " 0.77356143 0.84323484 0.83313841 0.87931571 0.85194401 0.86469673\n",
            " 0.78227061 0.79875583 0.82301711 0.77076205 0.76765163 0.80248834\n",
            " 0.78040435 0.75241058 0.75645412 0.7645661  0.73530327 0.78880249\n",
            " 0.81586314 0.83017107 0.84012442 0.79533437 0.80155521 0.81337481\n",
            " 0.7881804  0.76609642 0.7881804  0.78693624 0.80514463 0.79595645\n",
            " 0.81026439 0.78942457 0.83856921 0.84199067 0.86687403 0.79024883\n",
            " 0.76049767 0.80808709 0.82301711 0.85412131 0.87682737 0.84817729\n",
            " 0.82363919 0.84105754 0.85723173 0.86127527 0.86127527 0.8681182\n",
            " 0.89766719 0.90824261 0.91104199 0.91135303 0.93592535 0.97076205\n",
            " 0.94992224 0.96920684 1.         0.98911353 0.97169518 0.97573872\n",
            " 0.95233428 0.93778837 0.92100412 0.90455902]\n",
            "4 day output [[0.88969845]]\n",
            "5 day input [0.59751166 0.59906687 0.60435459 0.60404355 0.60559876 0.61866252\n",
            " 0.63981337 0.63452566 0.6192846  0.62488336 0.62426128 0.64821151\n",
            " 0.6562986  0.62457232 0.61399689 0.62830482 0.63732504 0.64634526\n",
            " 0.65536547 0.65692068 0.64634526 0.67247278 0.73810264 0.79564541\n",
            " 0.77698289 0.83794712 0.88678072 0.92690513 0.78662519 0.75863142\n",
            " 0.79751166 0.75023328 0.69300156 0.68802488 0.76267496 0.77356143\n",
            " 0.84323484 0.83313841 0.87931571 0.85194401 0.86469673 0.78227061\n",
            " 0.79875583 0.82301711 0.77076205 0.76765163 0.80248834 0.78040435\n",
            " 0.75241058 0.75645412 0.7645661  0.73530327 0.78880249 0.81586314\n",
            " 0.83017107 0.84012442 0.79533437 0.80155521 0.81337481 0.7881804\n",
            " 0.76609642 0.7881804  0.78693624 0.80514463 0.79595645 0.81026439\n",
            " 0.78942457 0.83856921 0.84199067 0.86687403 0.79024883 0.76049767\n",
            " 0.80808709 0.82301711 0.85412131 0.87682737 0.84817729 0.82363919\n",
            " 0.84105754 0.85723173 0.86127527 0.86127527 0.8681182  0.89766719\n",
            " 0.90824261 0.91104199 0.91135303 0.93592535 0.97076205 0.94992224\n",
            " 0.96920684 1.         0.98911353 0.97169518 0.97573872 0.95233428\n",
            " 0.93778837 0.92100412 0.90455902 0.88969845]\n",
            "5 day output [[0.876994]]\n",
            "6 day input [0.59906687 0.60435459 0.60404355 0.60559876 0.61866252 0.63981337\n",
            " 0.63452566 0.6192846  0.62488336 0.62426128 0.64821151 0.6562986\n",
            " 0.62457232 0.61399689 0.62830482 0.63732504 0.64634526 0.65536547\n",
            " 0.65692068 0.64634526 0.67247278 0.73810264 0.79564541 0.77698289\n",
            " 0.83794712 0.88678072 0.92690513 0.78662519 0.75863142 0.79751166\n",
            " 0.75023328 0.69300156 0.68802488 0.76267496 0.77356143 0.84323484\n",
            " 0.83313841 0.87931571 0.85194401 0.86469673 0.78227061 0.79875583\n",
            " 0.82301711 0.77076205 0.76765163 0.80248834 0.78040435 0.75241058\n",
            " 0.75645412 0.7645661  0.73530327 0.78880249 0.81586314 0.83017107\n",
            " 0.84012442 0.79533437 0.80155521 0.81337481 0.7881804  0.76609642\n",
            " 0.7881804  0.78693624 0.80514463 0.79595645 0.81026439 0.78942457\n",
            " 0.83856921 0.84199067 0.86687403 0.79024883 0.76049767 0.80808709\n",
            " 0.82301711 0.85412131 0.87682737 0.84817729 0.82363919 0.84105754\n",
            " 0.85723173 0.86127527 0.86127527 0.8681182  0.89766719 0.90824261\n",
            " 0.91104199 0.91135303 0.93592535 0.97076205 0.94992224 0.96920684\n",
            " 1.         0.98911353 0.97169518 0.97573872 0.95233428 0.93778837\n",
            " 0.92100412 0.90455902 0.88969845 0.87699401]\n",
            "6 day output [[0.8666154]]\n",
            "7 day input [0.60435459 0.60404355 0.60559876 0.61866252 0.63981337 0.63452566\n",
            " 0.6192846  0.62488336 0.62426128 0.64821151 0.6562986  0.62457232\n",
            " 0.61399689 0.62830482 0.63732504 0.64634526 0.65536547 0.65692068\n",
            " 0.64634526 0.67247278 0.73810264 0.79564541 0.77698289 0.83794712\n",
            " 0.88678072 0.92690513 0.78662519 0.75863142 0.79751166 0.75023328\n",
            " 0.69300156 0.68802488 0.76267496 0.77356143 0.84323484 0.83313841\n",
            " 0.87931571 0.85194401 0.86469673 0.78227061 0.79875583 0.82301711\n",
            " 0.77076205 0.76765163 0.80248834 0.78040435 0.75241058 0.75645412\n",
            " 0.7645661  0.73530327 0.78880249 0.81586314 0.83017107 0.84012442\n",
            " 0.79533437 0.80155521 0.81337481 0.7881804  0.76609642 0.7881804\n",
            " 0.78693624 0.80514463 0.79595645 0.81026439 0.78942457 0.83856921\n",
            " 0.84199067 0.86687403 0.79024883 0.76049767 0.80808709 0.82301711\n",
            " 0.85412131 0.87682737 0.84817729 0.82363919 0.84105754 0.85723173\n",
            " 0.86127527 0.86127527 0.8681182  0.89766719 0.90824261 0.91104199\n",
            " 0.91135303 0.93592535 0.97076205 0.94992224 0.96920684 1.\n",
            " 0.98911353 0.97169518 0.97573872 0.95233428 0.93778837 0.92100412\n",
            " 0.90455902 0.88969845 0.87699401 0.86661541]\n",
            "7 day output [[0.85841435]]\n",
            "8 day input [0.60404355 0.60559876 0.61866252 0.63981337 0.63452566 0.6192846\n",
            " 0.62488336 0.62426128 0.64821151 0.6562986  0.62457232 0.61399689\n",
            " 0.62830482 0.63732504 0.64634526 0.65536547 0.65692068 0.64634526\n",
            " 0.67247278 0.73810264 0.79564541 0.77698289 0.83794712 0.88678072\n",
            " 0.92690513 0.78662519 0.75863142 0.79751166 0.75023328 0.69300156\n",
            " 0.68802488 0.76267496 0.77356143 0.84323484 0.83313841 0.87931571\n",
            " 0.85194401 0.86469673 0.78227061 0.79875583 0.82301711 0.77076205\n",
            " 0.76765163 0.80248834 0.78040435 0.75241058 0.75645412 0.7645661\n",
            " 0.73530327 0.78880249 0.81586314 0.83017107 0.84012442 0.79533437\n",
            " 0.80155521 0.81337481 0.7881804  0.76609642 0.7881804  0.78693624\n",
            " 0.80514463 0.79595645 0.81026439 0.78942457 0.83856921 0.84199067\n",
            " 0.86687403 0.79024883 0.76049767 0.80808709 0.82301711 0.85412131\n",
            " 0.87682737 0.84817729 0.82363919 0.84105754 0.85723173 0.86127527\n",
            " 0.86127527 0.8681182  0.89766719 0.90824261 0.91104199 0.91135303\n",
            " 0.93592535 0.97076205 0.94992224 0.96920684 1.         0.98911353\n",
            " 0.97169518 0.97573872 0.95233428 0.93778837 0.92100412 0.90455902\n",
            " 0.88969845 0.87699401 0.86661541 0.85841435]\n",
            "8 day output [[0.85198176]]\n",
            "9 day input [0.60559876 0.61866252 0.63981337 0.63452566 0.6192846  0.62488336\n",
            " 0.62426128 0.64821151 0.6562986  0.62457232 0.61399689 0.62830482\n",
            " 0.63732504 0.64634526 0.65536547 0.65692068 0.64634526 0.67247278\n",
            " 0.73810264 0.79564541 0.77698289 0.83794712 0.88678072 0.92690513\n",
            " 0.78662519 0.75863142 0.79751166 0.75023328 0.69300156 0.68802488\n",
            " 0.76267496 0.77356143 0.84323484 0.83313841 0.87931571 0.85194401\n",
            " 0.86469673 0.78227061 0.79875583 0.82301711 0.77076205 0.76765163\n",
            " 0.80248834 0.78040435 0.75241058 0.75645412 0.7645661  0.73530327\n",
            " 0.78880249 0.81586314 0.83017107 0.84012442 0.79533437 0.80155521\n",
            " 0.81337481 0.7881804  0.76609642 0.7881804  0.78693624 0.80514463\n",
            " 0.79595645 0.81026439 0.78942457 0.83856921 0.84199067 0.86687403\n",
            " 0.79024883 0.76049767 0.80808709 0.82301711 0.85412131 0.87682737\n",
            " 0.84817729 0.82363919 0.84105754 0.85723173 0.86127527 0.86127527\n",
            " 0.8681182  0.89766719 0.90824261 0.91104199 0.91135303 0.93592535\n",
            " 0.97076205 0.94992224 0.96920684 1.         0.98911353 0.97169518\n",
            " 0.97573872 0.95233428 0.93778837 0.92100412 0.90455902 0.88969845\n",
            " 0.87699401 0.86661541 0.85841435 0.85198176]\n",
            "9 day output [[0.8467233]]\n",
            "10 day input [0.61866252 0.63981337 0.63452566 0.6192846  0.62488336 0.62426128\n",
            " 0.64821151 0.6562986  0.62457232 0.61399689 0.62830482 0.63732504\n",
            " 0.64634526 0.65536547 0.65692068 0.64634526 0.67247278 0.73810264\n",
            " 0.79564541 0.77698289 0.83794712 0.88678072 0.92690513 0.78662519\n",
            " 0.75863142 0.79751166 0.75023328 0.69300156 0.68802488 0.76267496\n",
            " 0.77356143 0.84323484 0.83313841 0.87931571 0.85194401 0.86469673\n",
            " 0.78227061 0.79875583 0.82301711 0.77076205 0.76765163 0.80248834\n",
            " 0.78040435 0.75241058 0.75645412 0.7645661  0.73530327 0.78880249\n",
            " 0.81586314 0.83017107 0.84012442 0.79533437 0.80155521 0.81337481\n",
            " 0.7881804  0.76609642 0.7881804  0.78693624 0.80514463 0.79595645\n",
            " 0.81026439 0.78942457 0.83856921 0.84199067 0.86687403 0.79024883\n",
            " 0.76049767 0.80808709 0.82301711 0.85412131 0.87682737 0.84817729\n",
            " 0.82363919 0.84105754 0.85723173 0.86127527 0.86127527 0.8681182\n",
            " 0.89766719 0.90824261 0.91104199 0.91135303 0.93592535 0.97076205\n",
            " 0.94992224 0.96920684 1.         0.98911353 0.97169518 0.97573872\n",
            " 0.95233428 0.93778837 0.92100412 0.90455902 0.88969845 0.87699401\n",
            " 0.86661541 0.85841435 0.85198176 0.84672332]\n",
            "10 day output [[0.84194636]]\n",
            "11 day input [0.63981337 0.63452566 0.6192846  0.62488336 0.62426128 0.64821151\n",
            " 0.6562986  0.62457232 0.61399689 0.62830482 0.63732504 0.64634526\n",
            " 0.65536547 0.65692068 0.64634526 0.67247278 0.73810264 0.79564541\n",
            " 0.77698289 0.83794712 0.88678072 0.92690513 0.78662519 0.75863142\n",
            " 0.79751166 0.75023328 0.69300156 0.68802488 0.76267496 0.77356143\n",
            " 0.84323484 0.83313841 0.87931571 0.85194401 0.86469673 0.78227061\n",
            " 0.79875583 0.82301711 0.77076205 0.76765163 0.80248834 0.78040435\n",
            " 0.75241058 0.75645412 0.7645661  0.73530327 0.78880249 0.81586314\n",
            " 0.83017107 0.84012442 0.79533437 0.80155521 0.81337481 0.7881804\n",
            " 0.76609642 0.7881804  0.78693624 0.80514463 0.79595645 0.81026439\n",
            " 0.78942457 0.83856921 0.84199067 0.86687403 0.79024883 0.76049767\n",
            " 0.80808709 0.82301711 0.85412131 0.87682737 0.84817729 0.82363919\n",
            " 0.84105754 0.85723173 0.86127527 0.86127527 0.8681182  0.89766719\n",
            " 0.90824261 0.91104199 0.91135303 0.93592535 0.97076205 0.94992224\n",
            " 0.96920684 1.         0.98911353 0.97169518 0.97573872 0.95233428\n",
            " 0.93778837 0.92100412 0.90455902 0.88969845 0.87699401 0.86661541\n",
            " 0.85841435 0.85198176 0.84672332 0.84194636]\n",
            "11 day output [[0.83694905]]\n",
            "12 day input [0.63452566 0.6192846  0.62488336 0.62426128 0.64821151 0.6562986\n",
            " 0.62457232 0.61399689 0.62830482 0.63732504 0.64634526 0.65536547\n",
            " 0.65692068 0.64634526 0.67247278 0.73810264 0.79564541 0.77698289\n",
            " 0.83794712 0.88678072 0.92690513 0.78662519 0.75863142 0.79751166\n",
            " 0.75023328 0.69300156 0.68802488 0.76267496 0.77356143 0.84323484\n",
            " 0.83313841 0.87931571 0.85194401 0.86469673 0.78227061 0.79875583\n",
            " 0.82301711 0.77076205 0.76765163 0.80248834 0.78040435 0.75241058\n",
            " 0.75645412 0.7645661  0.73530327 0.78880249 0.81586314 0.83017107\n",
            " 0.84012442 0.79533437 0.80155521 0.81337481 0.7881804  0.76609642\n",
            " 0.7881804  0.78693624 0.80514463 0.79595645 0.81026439 0.78942457\n",
            " 0.83856921 0.84199067 0.86687403 0.79024883 0.76049767 0.80808709\n",
            " 0.82301711 0.85412131 0.87682737 0.84817729 0.82363919 0.84105754\n",
            " 0.85723173 0.86127527 0.86127527 0.8681182  0.89766719 0.90824261\n",
            " 0.91104199 0.91135303 0.93592535 0.97076205 0.94992224 0.96920684\n",
            " 1.         0.98911353 0.97169518 0.97573872 0.95233428 0.93778837\n",
            " 0.92100412 0.90455902 0.88969845 0.87699401 0.86661541 0.85841435\n",
            " 0.85198176 0.84672332 0.84194636 0.83694905]\n",
            "12 day output [[0.83110106]]\n",
            "13 day input [0.6192846  0.62488336 0.62426128 0.64821151 0.6562986  0.62457232\n",
            " 0.61399689 0.62830482 0.63732504 0.64634526 0.65536547 0.65692068\n",
            " 0.64634526 0.67247278 0.73810264 0.79564541 0.77698289 0.83794712\n",
            " 0.88678072 0.92690513 0.78662519 0.75863142 0.79751166 0.75023328\n",
            " 0.69300156 0.68802488 0.76267496 0.77356143 0.84323484 0.83313841\n",
            " 0.87931571 0.85194401 0.86469673 0.78227061 0.79875583 0.82301711\n",
            " 0.77076205 0.76765163 0.80248834 0.78040435 0.75241058 0.75645412\n",
            " 0.7645661  0.73530327 0.78880249 0.81586314 0.83017107 0.84012442\n",
            " 0.79533437 0.80155521 0.81337481 0.7881804  0.76609642 0.7881804\n",
            " 0.78693624 0.80514463 0.79595645 0.81026439 0.78942457 0.83856921\n",
            " 0.84199067 0.86687403 0.79024883 0.76049767 0.80808709 0.82301711\n",
            " 0.85412131 0.87682737 0.84817729 0.82363919 0.84105754 0.85723173\n",
            " 0.86127527 0.86127527 0.8681182  0.89766719 0.90824261 0.91104199\n",
            " 0.91135303 0.93592535 0.97076205 0.94992224 0.96920684 1.\n",
            " 0.98911353 0.97169518 0.97573872 0.95233428 0.93778837 0.92100412\n",
            " 0.90455902 0.88969845 0.87699401 0.86661541 0.85841435 0.85198176\n",
            " 0.84672332 0.84194636 0.83694905 0.83110106]\n",
            "13 day output [[0.82390624]]\n",
            "14 day input [0.62488336 0.62426128 0.64821151 0.6562986  0.62457232 0.61399689\n",
            " 0.62830482 0.63732504 0.64634526 0.65536547 0.65692068 0.64634526\n",
            " 0.67247278 0.73810264 0.79564541 0.77698289 0.83794712 0.88678072\n",
            " 0.92690513 0.78662519 0.75863142 0.79751166 0.75023328 0.69300156\n",
            " 0.68802488 0.76267496 0.77356143 0.84323484 0.83313841 0.87931571\n",
            " 0.85194401 0.86469673 0.78227061 0.79875583 0.82301711 0.77076205\n",
            " 0.76765163 0.80248834 0.78040435 0.75241058 0.75645412 0.7645661\n",
            " 0.73530327 0.78880249 0.81586314 0.83017107 0.84012442 0.79533437\n",
            " 0.80155521 0.81337481 0.7881804  0.76609642 0.7881804  0.78693624\n",
            " 0.80514463 0.79595645 0.81026439 0.78942457 0.83856921 0.84199067\n",
            " 0.86687403 0.79024883 0.76049767 0.80808709 0.82301711 0.85412131\n",
            " 0.87682737 0.84817729 0.82363919 0.84105754 0.85723173 0.86127527\n",
            " 0.86127527 0.8681182  0.89766719 0.90824261 0.91104199 0.91135303\n",
            " 0.93592535 0.97076205 0.94992224 0.96920684 1.         0.98911353\n",
            " 0.97169518 0.97573872 0.95233428 0.93778837 0.92100412 0.90455902\n",
            " 0.88969845 0.87699401 0.86661541 0.85841435 0.85198176 0.84672332\n",
            " 0.84194636 0.83694905 0.83110106 0.82390624]\n",
            "14 day output [[0.81504196]]\n",
            "15 day input [0.62426128 0.64821151 0.6562986  0.62457232 0.61399689 0.62830482\n",
            " 0.63732504 0.64634526 0.65536547 0.65692068 0.64634526 0.67247278\n",
            " 0.73810264 0.79564541 0.77698289 0.83794712 0.88678072 0.92690513\n",
            " 0.78662519 0.75863142 0.79751166 0.75023328 0.69300156 0.68802488\n",
            " 0.76267496 0.77356143 0.84323484 0.83313841 0.87931571 0.85194401\n",
            " 0.86469673 0.78227061 0.79875583 0.82301711 0.77076205 0.76765163\n",
            " 0.80248834 0.78040435 0.75241058 0.75645412 0.7645661  0.73530327\n",
            " 0.78880249 0.81586314 0.83017107 0.84012442 0.79533437 0.80155521\n",
            " 0.81337481 0.7881804  0.76609642 0.7881804  0.78693624 0.80514463\n",
            " 0.79595645 0.81026439 0.78942457 0.83856921 0.84199067 0.86687403\n",
            " 0.79024883 0.76049767 0.80808709 0.82301711 0.85412131 0.87682737\n",
            " 0.84817729 0.82363919 0.84105754 0.85723173 0.86127527 0.86127527\n",
            " 0.8681182  0.89766719 0.90824261 0.91104199 0.91135303 0.93592535\n",
            " 0.97076205 0.94992224 0.96920684 1.         0.98911353 0.97169518\n",
            " 0.97573872 0.95233428 0.93778837 0.92100412 0.90455902 0.88969845\n",
            " 0.87699401 0.86661541 0.85841435 0.85198176 0.84672332 0.84194636\n",
            " 0.83694905 0.83110106 0.82390624 0.81504196]\n",
            "15 day output [[0.80437315]]\n",
            "16 day input [0.64821151 0.6562986  0.62457232 0.61399689 0.62830482 0.63732504\n",
            " 0.64634526 0.65536547 0.65692068 0.64634526 0.67247278 0.73810264\n",
            " 0.79564541 0.77698289 0.83794712 0.88678072 0.92690513 0.78662519\n",
            " 0.75863142 0.79751166 0.75023328 0.69300156 0.68802488 0.76267496\n",
            " 0.77356143 0.84323484 0.83313841 0.87931571 0.85194401 0.86469673\n",
            " 0.78227061 0.79875583 0.82301711 0.77076205 0.76765163 0.80248834\n",
            " 0.78040435 0.75241058 0.75645412 0.7645661  0.73530327 0.78880249\n",
            " 0.81586314 0.83017107 0.84012442 0.79533437 0.80155521 0.81337481\n",
            " 0.7881804  0.76609642 0.7881804  0.78693624 0.80514463 0.79595645\n",
            " 0.81026439 0.78942457 0.83856921 0.84199067 0.86687403 0.79024883\n",
            " 0.76049767 0.80808709 0.82301711 0.85412131 0.87682737 0.84817729\n",
            " 0.82363919 0.84105754 0.85723173 0.86127527 0.86127527 0.8681182\n",
            " 0.89766719 0.90824261 0.91104199 0.91135303 0.93592535 0.97076205\n",
            " 0.94992224 0.96920684 1.         0.98911353 0.97169518 0.97573872\n",
            " 0.95233428 0.93778837 0.92100412 0.90455902 0.88969845 0.87699401\n",
            " 0.86661541 0.85841435 0.85198176 0.84672332 0.84194636 0.83694905\n",
            " 0.83110106 0.82390624 0.81504196 0.80437315]\n",
            "16 day output [[0.7919404]]\n",
            "17 day input [0.6562986  0.62457232 0.61399689 0.62830482 0.63732504 0.64634526\n",
            " 0.65536547 0.65692068 0.64634526 0.67247278 0.73810264 0.79564541\n",
            " 0.77698289 0.83794712 0.88678072 0.92690513 0.78662519 0.75863142\n",
            " 0.79751166 0.75023328 0.69300156 0.68802488 0.76267496 0.77356143\n",
            " 0.84323484 0.83313841 0.87931571 0.85194401 0.86469673 0.78227061\n",
            " 0.79875583 0.82301711 0.77076205 0.76765163 0.80248834 0.78040435\n",
            " 0.75241058 0.75645412 0.7645661  0.73530327 0.78880249 0.81586314\n",
            " 0.83017107 0.84012442 0.79533437 0.80155521 0.81337481 0.7881804\n",
            " 0.76609642 0.7881804  0.78693624 0.80514463 0.79595645 0.81026439\n",
            " 0.78942457 0.83856921 0.84199067 0.86687403 0.79024883 0.76049767\n",
            " 0.80808709 0.82301711 0.85412131 0.87682737 0.84817729 0.82363919\n",
            " 0.84105754 0.85723173 0.86127527 0.86127527 0.8681182  0.89766719\n",
            " 0.90824261 0.91104199 0.91135303 0.93592535 0.97076205 0.94992224\n",
            " 0.96920684 1.         0.98911353 0.97169518 0.97573872 0.95233428\n",
            " 0.93778837 0.92100412 0.90455902 0.88969845 0.87699401 0.86661541\n",
            " 0.85841435 0.85198176 0.84672332 0.84194636 0.83694905 0.83110106\n",
            " 0.82390624 0.81504196 0.80437315 0.79194039]\n",
            "17 day output [[0.77792966]]\n",
            "18 day input [0.62457232 0.61399689 0.62830482 0.63732504 0.64634526 0.65536547\n",
            " 0.65692068 0.64634526 0.67247278 0.73810264 0.79564541 0.77698289\n",
            " 0.83794712 0.88678072 0.92690513 0.78662519 0.75863142 0.79751166\n",
            " 0.75023328 0.69300156 0.68802488 0.76267496 0.77356143 0.84323484\n",
            " 0.83313841 0.87931571 0.85194401 0.86469673 0.78227061 0.79875583\n",
            " 0.82301711 0.77076205 0.76765163 0.80248834 0.78040435 0.75241058\n",
            " 0.75645412 0.7645661  0.73530327 0.78880249 0.81586314 0.83017107\n",
            " 0.84012442 0.79533437 0.80155521 0.81337481 0.7881804  0.76609642\n",
            " 0.7881804  0.78693624 0.80514463 0.79595645 0.81026439 0.78942457\n",
            " 0.83856921 0.84199067 0.86687403 0.79024883 0.76049767 0.80808709\n",
            " 0.82301711 0.85412131 0.87682737 0.84817729 0.82363919 0.84105754\n",
            " 0.85723173 0.86127527 0.86127527 0.8681182  0.89766719 0.90824261\n",
            " 0.91104199 0.91135303 0.93592535 0.97076205 0.94992224 0.96920684\n",
            " 1.         0.98911353 0.97169518 0.97573872 0.95233428 0.93778837\n",
            " 0.92100412 0.90455902 0.88969845 0.87699401 0.86661541 0.85841435\n",
            " 0.85198176 0.84672332 0.84194636 0.83694905 0.83110106 0.82390624\n",
            " 0.81504196 0.80437315 0.79194039 0.77792966]\n",
            "18 day output [[0.7626286]]\n",
            "19 day input [0.61399689 0.62830482 0.63732504 0.64634526 0.65536547 0.65692068\n",
            " 0.64634526 0.67247278 0.73810264 0.79564541 0.77698289 0.83794712\n",
            " 0.88678072 0.92690513 0.78662519 0.75863142 0.79751166 0.75023328\n",
            " 0.69300156 0.68802488 0.76267496 0.77356143 0.84323484 0.83313841\n",
            " 0.87931571 0.85194401 0.86469673 0.78227061 0.79875583 0.82301711\n",
            " 0.77076205 0.76765163 0.80248834 0.78040435 0.75241058 0.75645412\n",
            " 0.7645661  0.73530327 0.78880249 0.81586314 0.83017107 0.84012442\n",
            " 0.79533437 0.80155521 0.81337481 0.7881804  0.76609642 0.7881804\n",
            " 0.78693624 0.80514463 0.79595645 0.81026439 0.78942457 0.83856921\n",
            " 0.84199067 0.86687403 0.79024883 0.76049767 0.80808709 0.82301711\n",
            " 0.85412131 0.87682737 0.84817729 0.82363919 0.84105754 0.85723173\n",
            " 0.86127527 0.86127527 0.8681182  0.89766719 0.90824261 0.91104199\n",
            " 0.91135303 0.93592535 0.97076205 0.94992224 0.96920684 1.\n",
            " 0.98911353 0.97169518 0.97573872 0.95233428 0.93778837 0.92100412\n",
            " 0.90455902 0.88969845 0.87699401 0.86661541 0.85841435 0.85198176\n",
            " 0.84672332 0.84194636 0.83694905 0.83110106 0.82390624 0.81504196\n",
            " 0.80437315 0.79194039 0.77792966 0.76262861]\n",
            "19 day output [[0.74637765]]\n",
            "[[0.9523342847824097], [0.9377883672714233], [0.9210041165351868], [0.9045590162277222], [0.8896984457969666], [0.8769940137863159], [0.8666154146194458], [0.858414351940155], [0.8519817590713501], [0.8467233180999756], [0.8419463634490967], [0.8369490504264832], [0.8311010599136353], [0.8239062428474426], [0.8150419592857361], [0.8043731451034546], [0.7919403910636902], [0.7779296636581421], [0.7626286149024963], [0.7463776469230652]]\n"
          ]
        }
      ]
    },
    {
      "cell_type": "code",
      "source": [
        "day_new=np.arange(1,101)\n",
        "day_pred=np.arange(101,121)"
      ],
      "metadata": {
        "id": "zQsGn_x0tcff"
      },
      "execution_count": null,
      "outputs": []
    },
    {
      "cell_type": "code",
      "source": [
        "import matplotlib.pyplot as plt\n",
        "len(df_close)"
      ],
      "metadata": {
        "colab": {
          "base_uri": "https://localhost:8080/"
        },
        "id": "-5vcFVayth-m",
        "outputId": "a9fe53d6-820d-4c71-aaa1-a6650d8f1236"
      },
      "execution_count": null,
      "outputs": [
        {
          "output_type": "execute_result",
          "data": {
            "text/plain": [
              "1258"
            ]
          },
          "metadata": {},
          "execution_count": 53
        }
      ]
    },
    {
      "cell_type": "code",
      "source": [
        "plt.plot(day_new,scaler.inverse_transform(df_close[1158:]))\n",
        "plt.plot(day_pred,scaler.inverse_transform(lst_output))"
      ],
      "metadata": {
        "colab": {
          "base_uri": "https://localhost:8080/",
          "height": 282
        },
        "id": "lrX_i4sjtnHG",
        "outputId": "c8957a99-acae-4bfb-cdc4-833d4acc0a11"
      },
      "execution_count": null,
      "outputs": [
        {
          "output_type": "execute_result",
          "data": {
            "text/plain": [
              "[<matplotlib.lines.Line2D at 0x7f7f5df9f9d0>]"
            ]
          },
          "metadata": {},
          "execution_count": 54
        },
        {
          "output_type": "display_data",
          "data": {
            "text/plain": [
              "<Figure size 432x288 with 1 Axes>"
            ],
            "image/png": "[encoded data removed]"
          },
          "metadata": {
            "needs_background": "light"
          }
        }
      ]
    },
    {
      "cell_type": "code",
      "source": [
        "df1=df_close.tolist()\n",
        "df1.extend(lst_output)\n",
        "plt.plot(df1[1200:])\n",
        "plt.show()"
      ],
      "metadata": {
        "colab": {
          "base_uri": "https://localhost:8080/",
          "height": 265
        },
        "id": "WnkVavT5uFBv",
        "outputId": "5997ec21-08f5-4204-d193-bba87798a53b"
      },
      "execution_count": null,
      "outputs": [
        {
          "output_type": "display_data",
          "data": {
            "text/plain": [
              "<Figure size 432x288 with 1 Axes>"
            ],
            "image/png": "[encoded data removed]"
          },
          "metadata": {
            "needs_background": "light"
          }
        }
      ]
    },
    {
      "cell_type": "code",
      "source": [
        "df1=scaler.inverse_transform(df1).tolist()"
      ],
      "metadata": {
        "id": "Ra6uD1vNuSIu"
      },
      "execution_count": null,
      "outputs": []
    },
    {
      "cell_type": "code",
      "source": [
        "plt.plot(df1)\n",
        "plt.show()"
      ],
      "metadata": {
        "colab": {
          "base_uri": "https://localhost:8080/",
          "height": 265
        },
        "id": "9P2_MAkDupWv",
        "outputId": "f38dc29f-9407-4c10-f048-4ba8851ab0c7"
      },
      "execution_count": null,
      "outputs": [
        {
          "output_type": "display_data",
          "data": {
            "text/plain": [
              "<Figure size 432x288 with 1 Axes>"
            ],
            "image/png": "[encoded data removed]"
          },
          "metadata": {
            "needs_background": "light"
          }
        }
      ]
    },
    {
      "cell_type": "code",
      "source": [
        ""
      ],
      "metadata": {
        "id": "t57b9lExurQO"
      },
      "execution_count": null,
      "outputs": []
    }
  ]
}